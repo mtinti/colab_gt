{
 "cells": [
  {
   "cell_type": "code",
   "execution_count": null,
   "metadata": {
    "id": "BX8uDBRB-Lym"
   },
   "outputs": [],
   "source": []
  },
  {
   "cell_type": "code",
   "execution_count": null,
   "metadata": {
    "colab": {
     "base_uri": "https://localhost:8080/"
    },
    "id": "peddsIUH-Lyp",
    "outputId": "b93e3309-70f3-4b71-8183-0a4c62b43b7a"
   },
   "outputs": [],
   "source": [
    "#install dependency\n",
    "!pip install protein-bert\n",
    "!pip install gdown\n",
    "!pip install biopython"
   ]
  },
  {
   "cell_type": "code",
   "execution_count": null,
   "metadata": {
    "colab": {
     "base_uri": "https://localhost:8080/"
    },
    "id": "0zhDhw---Lyu",
    "outputId": "4e39144a-eb91-411b-c07a-a56a172f8810"
   },
   "outputs": [],
   "source": [
    "#download assets\n",
    "!gdown --folder '1MMvRjjeR1Hz6hw08WZhZwLI-89pUpYtc'"
   ]
  },
  {
   "cell_type": "code",
   "execution_count": null,
   "metadata": {
    "id": "-GuGO76N-Lyy"
   },
   "outputs": [],
   "source": []
  },
  {
   "cell_type": "code",
   "execution_count": 6,
   "metadata": {
    "id": "KBCUX1Y5-Lyy"
   },
   "outputs": [],
   "source": [
    "#import packages\n",
    "import os\n",
    "import tensorflow as tf\n",
    "from Bio import SeqIO\n",
    "import os\n",
    "import pandas as pd\n",
    "import os\n",
    "import pandas as pd\n",
    "from IPython.display import display\n",
    "from tensorflow import keras\n",
    "from sklearn.model_selection import train_test_split\n",
    "from proteinbert import OutputType, OutputSpec, FinetuningModelGenerator, load_pretrained_model, finetune, evaluate_by_len\n",
    "from proteinbert.conv_and_global_attention_model import get_model_with_hidden_layers_as_outputs\n",
    "import numpy as np\n",
    "from proteinbert.finetuning import encode_categorical_Y\n",
    "from proteinbert.finetuning import encode_Y\n",
    "from proteinbert.finetuning import encode_dataset\n",
    "from io import StringIO"
   ]
  },
  {
   "cell_type": "code",
   "execution_count": null,
   "metadata": {
    "id": "c1ik2S9w-Ly-"
   },
   "outputs": [],
   "source": []
  },
  {
   "cell_type": "code",
   "execution_count": null,
   "metadata": {
    "colab": {
     "base_uri": "https://localhost:8080/"
    },
    "id": "7XAqoKsF-Ly-",
    "outputId": "9a0237d6-9f74-42b5-b29a-8fe3ba99a949"
   },
   "outputs": [],
   "source": [
    "#load the predictors\n",
    "def get_models(size = 1024):\n",
    "    df = pd.read_csv('GT_MODELS/label_to_family.csv',index_col=[0])\n",
    "    unique_labels = sorted(set(df['label'].unique()))\n",
    "    label_dict = dict(zip(df['label'],df['FamilyId']))\n",
    "    OUTPUT_TYPE = OutputType(False, 'categorical')\n",
    "    OUTPUT_SPEC = OutputSpec(OUTPUT_TYPE, unique_labels)\n",
    "\n",
    "    pretrained_model_generator, input_encoder = load_pretrained_model(\n",
    "    local_model_dump_dir='',\n",
    "    validate_downloading=False)\n",
    "\n",
    "    # get_model_with_hidden_layers_as_outputs gives the model output access to the hidden layers (on top of the output)\n",
    "    model_generator = FinetuningModelGenerator(\n",
    "        pretrained_model_generator, \n",
    "        OUTPUT_SPEC, \n",
    "        pretraining_model_manipulation_function = get_model_with_hidden_layers_as_outputs,\n",
    "        dropout_rate = 0.5)\n",
    "\n",
    "\n",
    "    fold=0\n",
    "    fine_tuned_model_0 = model_generator.create_model(size)\n",
    "    fine_tuned_model_0.load_weights('GT_MODELS/fine_tuned_model_other_fold_{fold}.h5'.format(fold=fold))\n",
    "\n",
    "    fold=1\n",
    "    fine_tuned_model_1 = model_generator.create_model(size)\n",
    "    fine_tuned_model_1.load_weights('GT_MODELS/fine_tuned_model_other_fold_{fold}.h5'.format(fold=fold))\n",
    "\n",
    "    fold=2\n",
    "    fine_tuned_model_2 = model_generator.create_model(size)\n",
    "    fine_tuned_model_2.load_weights('GT_MODELS/fine_tuned_model_other_fold_{fold}.h5'.format(fold=fold))\n",
    "\n",
    "    fold=3\n",
    "    fine_tuned_model_3 = model_generator.create_model(size)\n",
    "    fine_tuned_model_3.load_weights('GT_MODELS/fine_tuned_model_other_fold_{fold}.h5'.format(fold=fold))\n",
    "\n",
    "    fold=4\n",
    "    fine_tuned_model_4 = model_generator.create_model(size)\n",
    "    fine_tuned_model_4.load_weights('GT_MODELS/fine_tuned_model_other_fold_{fold}.h5'.format(fold=fold))    \n",
    "\n",
    "    models = [\n",
    "        fine_tuned_model_0,\n",
    "        fine_tuned_model_1,\n",
    "        fine_tuned_model_2,\n",
    "        fine_tuned_model_3,\n",
    "        fine_tuned_model_4,\n",
    "    ]\n",
    "    return models, input_encoder, OUTPUT_SPEC, label_dict\n",
    "\n",
    "models, input_encoder, OUTPUT_SPEC, label_dict = get_models()"
   ]
  },
  {
   "cell_type": "code",
   "execution_count": null,
   "metadata": {},
   "outputs": [],
   "source": [
    "fasta_entry='''\n",
    ">tr|A0A084A710|A0A084A710_LACLC Putative Glycosiltransferase OS=Lactococcus lactis subsp. cremoris GE214 OX=1415168 GN=U725_02784 PE=4 SV=1\n",
    "MLYDRGINVCHTTIYRWVQEYSKVLYYLWKKKNRQSFYSWKMDETYIKIKGRWHYLYRAI\n",
    "DADGLTLDIWLRKKRETQAAYAFLKRLHKQFGEPKAIVTDKAPSLGSAFRKLQCWSFECT\n",
    "DLMLPFAYKCYNIRLQYCIFFTEVLPMTVRKRQFGTEKDSFALPVRHTRENDRKLSINRI\n",
    "FIVITLIFWVCYVSSTIYNQMIVHIPNFRSAIETCLYIVIVTLLDFSALMYLIEREGALK\n",
    "RFAQHTRVPRQNIDTHFSKRQPKMTVLVPSYDEEIKVIRQTLLSAALQEYPDINIVLLLD\n",
    "DKPRPSQQDAIDKLERTKAAVLDIGKRFEEPSHRLKQSLLAFENKTKHKKQSKTDDAFEA\n",
    "AQKVVQEYKWAADWLMALANSEKVADHVDHFFVDKVIKDLADNLYLISSAIDKSISENVI\n",
    "ISDERLHQLYSRLVWVFTFNISYFQRKEYLSLSHEANKAMNLNSYINLMGGKYKIEKIAK\n",
    "NKVLLPVQEHETFDLEVPDSEYILTLDADSILLMEYCLRLVYLMDQKQNEKIAVTQTPYS\n",
    "SFRGSPTRIERITGSTTDIQHLLHQGSTHFDATFWVGANAVIRKRALEDIAEVDEIHGFM\n",
    "FRRFIQDRTVIEDTESSIDLRRKEWRLYNYPERLSYSATPPDFGSLVIQRGRWANGGLLI\n",
    "LPKLLAARKQLKREGRPMRRLEFLIRMNYMCSVAWASFGLLFLLVYPFDSKLLSIFILLS\n",
    "AIPYFIAMSSDLKYLRYRRIDVFGIYGFNLLLLPVNLAGVMKSIQQGLTDKKIPFARTPK\n",
    "VDNRTSVRGWYVFSPIAIIVYSMLTCLKSYQDGNWANALFAGFNTVTALWATIAYIGLMN\n",
    "MVKDILNNFLNLILVEEKSKKIENAIEQSDEMDWRSILYYGEKEEKLSLRVAIEHHKEH\n",
    ">tr|A0A7L8YR83|A0A7L8YR83_9CAUD Bactoprenol glycosiltransferase OS=Escherichia phage HF4s OX=2775262 GN=HF4s_0017 PE=4 SV=1\n",
    "MRNEDISGRSCLQRRGSDTYFYKTVREFEELKPYEVEIVFINDGSKDATESIINALSVSD\n",
    "PLVVPLSFTRNFGKEPALFAGLDHATGDAVIPIDVDLQDPIEVIPHLIEKWLAGADMVLA\n",
    "KRSDRSTDGRLKRKTAEWFYKLHNKISNPQIEENVGDFRLMSREVVENIKLMPERNLFMK\n",
    "GVLSWVGGRTDVVEYARAERVAGSTKFNGWKLWNLALEGITSFSTFPLRMWTYIGLFVAG\n",
    "AAFMYGAWMIIDTLAFGNAVRGYPSLLVSILFLGGIQLIGIGVLGEYIGRIYVEVKNRPR\n",
    "YVLKGRK\n",
    ">tr|Q9XC63|Q9XC63_PSEAI Glycosiltransferase OS=Pseudomonas aeruginosa OX=287 GN=wbjA PE=4 SV=1\n",
    "MLLSVVVSTWRRPKELKLVLAGLVAQSLAFKDFEVIVVDSNSGDETPDVVREFEAVQGFN\n",
    "VRLEQAELNSASAKRNKGVRLAKGRYVVLLDDDCVPDPAHLSNFLNAANSRRGERVIWCG\n",
    "GVRFSCSLVSTSNYYRYRDSCHFSADKPLPNSLGYKTIVTMNMLAERDILLQDNALFDER\n",
    "FVGYGFEDTEFGLRVGKLGYSVLPCRAEIEHVEPEGSISKFCRKYYHAARDGMPEFMKVA\n",
    "TTDDLETLGPIRWMEPGFALSSKFQSLFRAVLCLALESKFSNILIHSLEKTDSIRWLYSR\n",
    "AAYRLVLASSYRKGVLDRKSKLSKEKANKDGWYS\n",
    ">tr|A9H7V6|A9H7V6_GLUDA Glycosyl transferase group 1 OS=Gluconacetobacter diazotrophicus (strain ATCC 49037 / DSM 5601 / CCUG 37298 / CIP 103539 / LMG 7603 / PAl5) OX=272568 GN=GDI3747 PE=4 SV=1\n",
    "MSLSIGIVTHSTNPRGGVVHGMALAEALCDAGHDATLIAPDATGAGFFRAPRCAVRCIPV\n",
    "RPERDLPVQVERRIGELREALRGAPHDVLHAQDPIGANALADLVREGGLRGFARTVHHLD\n",
    "HFSHPGLAARQARGVTAATALFTVSTLWQGILADEYGRMAPVVGNGVDAVRFSPEPGPCD\n",
    "GTLRARYRLPPEGGLVLSVGGIERRKNTLMLLDAFLALRRERPDLHLVVAGGASLLDHSE\n",
    "YRRLFDRRVRDSGCAGAVTVTGPVADGDMPSFYRQALVLAYPSRTEGFGLCPLEALACGT\n",
    "PVIVPDAAPFTEHLHGPEVLWCAPDRPETLVAALRDALGARARFRAGGPATARRFDWRGV\n",
    "AARHMAAYRRLAALPHVTTPPGPKREYRDHA\n",
    "'''\n"
   ]
  },
  {
   "cell_type": "code",
   "execution_count": 8,
   "metadata": {
    "id": "A4zXHDhb-LzA"
   },
   "outputs": [],
   "source": [
    "#create the inputs\n",
    "#a list of protein sequences \n",
    "#and a list of zeros\n",
    "\n",
    "fasta_io = StringIO(fasta_entry)\n",
    "records = SeqIO.parse(fasta_io, \"fasta\")\n",
    "\n",
    "ids = []\n",
    "seqs = []\n",
    "for n in records:\n",
    "    ids.append(n.id)\n",
    "    seqs.append(str(n.seq))\n",
    "    if len(str(n.seq)) > 1000:\n",
    "        raise TypeError(\"Sequence must be less than 1000AA\")\n",
    "\n",
    "targets = [0 for n in seqs]\n",
    "print('predicting:',len(ids),len(seqs),len(targets),'proteins')\n"
   ]
  },
  {
   "cell_type": "code",
   "execution_count": null,
   "metadata": {
    "id": "5HYgXRvV-LzA"
   },
   "outputs": [],
   "source": []
  },
  {
   "cell_type": "code",
   "execution_count": 10,
   "metadata": {
    "id": "sfiS73d_-LzD"
   },
   "outputs": [],
   "source": [
    "#encode the inputs\n",
    "X, y_true, sample_weights = encode_dataset(seqs, targets, input_encoder, OUTPUT_SPEC, \\\n",
    "                seq_len = 512*2, needs_filtering = False)"
   ]
  },
  {
   "cell_type": "code",
   "execution_count": 13,
   "metadata": {
    "id": "guuyLmsK-LzE"
   },
   "outputs": [],
   "source": [
    "#prepare the result dataframe\n",
    "in_df = pd.DataFrame()\n",
    "in_df['ids']=ids\n",
    "in_df['seq']=seqs\n",
    "in_df.head()"
   ]
  },
  {
   "cell_type": "code",
   "execution_count": null,
   "metadata": {
    "colab": {
     "base_uri": "https://localhost:8080/",
     "height": 87,
     "referenced_widgets": [
      "b8502a6e3b3649fba7f0674991fea8ab",
      "0fcf9488094144f892f115590b860ef7",
      "b07a98287a794eb6965d11066e2322c5",
      "111779770ab34189af81fb31260697ed",
      "f8d4cf4d70f6400082803987e35998eb",
      "17f0fcaf4bff42bdb365f93cda29b0fd",
      "18a16c6e2ce441e6b7f7f7b9d017ef09",
      "5f032b124227497091942236d5e54f9e",
      "b5ebf507a3a64587b83c7a5244d486d5",
      "a9368b7b06464365bf3b7ba12cc1bc6f",
      "5ea43f2b5d5941eeb0f9dc89b8bd71da"
     ]
    },
    "id": "nYjOQrAU-LzE",
    "outputId": "8cfbd46f-030a-4333-d07f-51e08b3ebd89"
   },
   "outputs": [],
   "source": [
    "#predict\n",
    "from tqdm.auto import tqdm\n",
    "for index, model in tqdm(enumerate(models)):\n",
    "    preds = model.predict(X, batch_size = 32)\n",
    "    index_sorted = np.argsort(preds, axis=1)\n",
    "    \n",
    "    labels_1 = pd.Series(index_sorted[:,-1])\n",
    "    labels_2 = pd.Series(index_sorted[:,-2])\n",
    "    \n",
    "    family_1 = labels_1.map(label_dict)\n",
    "    family_2 = labels_2.map(label_dict)\n",
    "    \n",
    "    prob_1 = preds[np.arange(len(X[0])), labels_1]\n",
    "    prob_2 = preds[np.arange(len(X[0])), labels_2]\n",
    "    \n",
    "    in_df['model_'+str(index)+'_labels_1']=labels_1.values\n",
    "    in_df['model_'+str(index)+'_family_1']=family_1.values\n",
    "    in_df['model_'+str(index)+'_prob_1']=prob_1\n"
   ]
  },
  {
   "cell_type": "code",
   "execution_count": 16,
   "metadata": {
    "id": "ASecKQ9--LzF"
   },
   "outputs": [],
   "source": [
    "#parse outputs and get the majority prediction/probability\n",
    "def select(X):\n",
    "    temp = []\n",
    "    items = list(set(X))\n",
    "    to_count = list(X)\n",
    "    #print(temp,items,to_count)\n",
    "    for n in items:\n",
    "        temp.append((to_count.count(n),n))\n",
    "    temp.sort()\n",
    "    #print(temp)\n",
    "    return temp[-1][-1]\n",
    "\n",
    "\n",
    "def vote_mean(X):\n",
    "    #print(X)\n",
    "    majority = X['vote']\n",
    "    score = []\n",
    "    for a,b in zip(X[['model_0_family_1','model_1_family_1','model_2_family_1','model_3_family_1','model_4_family_1']],\n",
    "                   X[['model_0_prob_1','model_1_prob_1','model_2_prob_1','model_3_prob_1','model_4_prob_1']]):\n",
    "        if a==majority:\n",
    "            score.append(b)\n",
    "    return np.mean(score)\n",
    "                   \n",
    "\n",
    "\n",
    "def get_dict_from_desc(X):\n",
    "    temp_dict = {}\n",
    "    item_list= X.split('|')\n",
    "    #print(item_list)\n",
    "    for item in item_list:\n",
    "        if '=' in item:\n",
    "            key = item.split('=')[0].strip()\n",
    "            value = item.split('=')[1].strip()\n",
    "            temp_dict[key]=value\n",
    "            #print(key,value)\n",
    "    return temp_dict\n",
    "\n",
    "def get_desc(X, target):\n",
    "    temp_dict = get_dict_from_desc(X)\n",
    "    #print(temp_dict)\n",
    "    return temp_dict[target]\n"
   ]
  },
  {
   "cell_type": "code",
   "execution_count": null,
   "metadata": {
    "colab": {
     "base_uri": "https://localhost:8080/",
     "height": 145
    },
    "id": "5lISmISq-LzG",
    "outputId": "39e851b2-e047-4e8e-cd1f-ee5124712541"
   },
   "outputs": [],
   "source": [
    "in_df['vote']=in_df[['model_0_family_1','model_1_family_1','model_2_family_1','model_3_family_1','model_4_family_1']].apply(select,axis=1)\n",
    "in_df['vote_mean']=in_df.apply(vote_mean,axis=1)"
   ]
  },
  {
   "cell_type": "code",
   "execution_count": null,
   "metadata": {
    "colab": {
     "base_uri": "https://localhost:8080/",
     "height": 81
    },
    "id": "9jYRziDr-LzG",
    "outputId": "c8ac78ca-6a6b-4a5f-9d64-f787f06131ed"
   },
   "outputs": [],
   "source": [
    "#visualize result\n",
    "in_df[['ids','vote','vote_mean']]"
   ]
  },
  {
   "cell_type": "code",
   "execution_count": null,
   "metadata": {
    "id": "koAioyAC-Lzb"
   },
   "outputs": [],
   "source": []
  },
  {
   "cell_type": "code",
   "execution_count": null,
   "metadata": {
    "id": "rsDz8jUn-Lzb"
   },
   "outputs": [],
   "source": []
  },
  {
   "cell_type": "code",
   "execution_count": null,
   "metadata": {
    "id": "CFOSwc3i-Lzb"
   },
   "outputs": [],
   "source": []
  },
  {
   "cell_type": "code",
   "execution_count": null,
   "metadata": {
    "id": "MMknkppC-Lzc"
   },
   "outputs": [],
   "source": []
  },
  {
   "cell_type": "code",
   "execution_count": null,
   "metadata": {
    "id": "5DdkDY2O-Lzc"
   },
   "outputs": [],
   "source": []
  },
  {
   "cell_type": "code",
   "execution_count": null,
   "metadata": {
    "id": "B2IvWQpd-Lzc"
   },
   "outputs": [],
   "source": []
  }
 ],
 "metadata": {
  "colab": {
   "name": "predict_gt.ipynb",
   "provenance": []
  },
  "kernelspec": {
   "display_name": "Python 3",
   "language": "python",
   "name": "python3"
  },
  "language_info": {
   "codemirror_mode": {
    "name": "ipython",
    "version": 3
   },
   "file_extension": ".py",
   "mimetype": "text/x-python",
   "name": "python",
   "nbconvert_exporter": "python",
   "pygments_lexer": "ipython3",
   "version": "3.7.1"
  },
  "toc": {
   "base_numbering": 1,
   "nav_menu": {},
   "number_sections": true,
   "sideBar": true,
   "skip_h1_title": false,
   "title_cell": "Table of Contents",
   "title_sidebar": "Contents",
   "toc_cell": false,
   "toc_position": {},
   "toc_section_display": true,
   "toc_window_display": false
  },
  "widgets": {
   "application/vnd.jupyter.widget-state+json": {
    "0fcf9488094144f892f115590b860ef7": {
     "model_module": "@jupyter-widgets/controls",
     "model_module_version": "1.5.0",
     "model_name": "HTMLModel",
     "state": {
      "_dom_classes": [],
      "_model_module": "@jupyter-widgets/controls",
      "_model_module_version": "1.5.0",
      "_model_name": "HTMLModel",
      "_view_count": null,
      "_view_module": "@jupyter-widgets/controls",
      "_view_module_version": "1.5.0",
      "_view_name": "HTMLView",
      "description": "",
      "description_tooltip": null,
      "layout": "IPY_MODEL_17f0fcaf4bff42bdb365f93cda29b0fd",
      "placeholder": "​",
      "style": "IPY_MODEL_18a16c6e2ce441e6b7f7f7b9d017ef09",
      "value": ""
     }
    },
    "111779770ab34189af81fb31260697ed": {
     "model_module": "@jupyter-widgets/controls",
     "model_module_version": "1.5.0",
     "model_name": "HTMLModel",
     "state": {
      "_dom_classes": [],
      "_model_module": "@jupyter-widgets/controls",
      "_model_module_version": "1.5.0",
      "_model_name": "HTMLModel",
      "_view_count": null,
      "_view_module": "@jupyter-widgets/controls",
      "_view_module_version": "1.5.0",
      "_view_name": "HTMLView",
      "description": "",
      "description_tooltip": null,
      "layout": "IPY_MODEL_a9368b7b06464365bf3b7ba12cc1bc6f",
      "placeholder": "​",
      "style": "IPY_MODEL_5ea43f2b5d5941eeb0f9dc89b8bd71da",
      "value": " 5/? [00:11&lt;00:00,  2.34s/it]"
     }
    },
    "17f0fcaf4bff42bdb365f93cda29b0fd": {
     "model_module": "@jupyter-widgets/base",
     "model_module_version": "1.2.0",
     "model_name": "LayoutModel",
     "state": {
      "_model_module": "@jupyter-widgets/base",
      "_model_module_version": "1.2.0",
      "_model_name": "LayoutModel",
      "_view_count": null,
      "_view_module": "@jupyter-widgets/base",
      "_view_module_version": "1.2.0",
      "_view_name": "LayoutView",
      "align_content": null,
      "align_items": null,
      "align_self": null,
      "border": null,
      "bottom": null,
      "display": null,
      "flex": null,
      "flex_flow": null,
      "grid_area": null,
      "grid_auto_columns": null,
      "grid_auto_flow": null,
      "grid_auto_rows": null,
      "grid_column": null,
      "grid_gap": null,
      "grid_row": null,
      "grid_template_areas": null,
      "grid_template_columns": null,
      "grid_template_rows": null,
      "height": null,
      "justify_content": null,
      "justify_items": null,
      "left": null,
      "margin": null,
      "max_height": null,
      "max_width": null,
      "min_height": null,
      "min_width": null,
      "object_fit": null,
      "object_position": null,
      "order": null,
      "overflow": null,
      "overflow_x": null,
      "overflow_y": null,
      "padding": null,
      "right": null,
      "top": null,
      "visibility": null,
      "width": null
     }
    },
    "18a16c6e2ce441e6b7f7f7b9d017ef09": {
     "model_module": "@jupyter-widgets/controls",
     "model_module_version": "1.5.0",
     "model_name": "DescriptionStyleModel",
     "state": {
      "_model_module": "@jupyter-widgets/controls",
      "_model_module_version": "1.5.0",
      "_model_name": "DescriptionStyleModel",
      "_view_count": null,
      "_view_module": "@jupyter-widgets/base",
      "_view_module_version": "1.2.0",
      "_view_name": "StyleView",
      "description_width": ""
     }
    },
    "5ea43f2b5d5941eeb0f9dc89b8bd71da": {
     "model_module": "@jupyter-widgets/controls",
     "model_module_version": "1.5.0",
     "model_name": "DescriptionStyleModel",
     "state": {
      "_model_module": "@jupyter-widgets/controls",
      "_model_module_version": "1.5.0",
      "_model_name": "DescriptionStyleModel",
      "_view_count": null,
      "_view_module": "@jupyter-widgets/base",
      "_view_module_version": "1.2.0",
      "_view_name": "StyleView",
      "description_width": ""
     }
    },
    "5f032b124227497091942236d5e54f9e": {
     "model_module": "@jupyter-widgets/base",
     "model_module_version": "1.2.0",
     "model_name": "LayoutModel",
     "state": {
      "_model_module": "@jupyter-widgets/base",
      "_model_module_version": "1.2.0",
      "_model_name": "LayoutModel",
      "_view_count": null,
      "_view_module": "@jupyter-widgets/base",
      "_view_module_version": "1.2.0",
      "_view_name": "LayoutView",
      "align_content": null,
      "align_items": null,
      "align_self": null,
      "border": null,
      "bottom": null,
      "display": null,
      "flex": null,
      "flex_flow": null,
      "grid_area": null,
      "grid_auto_columns": null,
      "grid_auto_flow": null,
      "grid_auto_rows": null,
      "grid_column": null,
      "grid_gap": null,
      "grid_row": null,
      "grid_template_areas": null,
      "grid_template_columns": null,
      "grid_template_rows": null,
      "height": null,
      "justify_content": null,
      "justify_items": null,
      "left": null,
      "margin": null,
      "max_height": null,
      "max_width": null,
      "min_height": null,
      "min_width": null,
      "object_fit": null,
      "object_position": null,
      "order": null,
      "overflow": null,
      "overflow_x": null,
      "overflow_y": null,
      "padding": null,
      "right": null,
      "top": null,
      "visibility": null,
      "width": "20px"
     }
    },
    "a9368b7b06464365bf3b7ba12cc1bc6f": {
     "model_module": "@jupyter-widgets/base",
     "model_module_version": "1.2.0",
     "model_name": "LayoutModel",
     "state": {
      "_model_module": "@jupyter-widgets/base",
      "_model_module_version": "1.2.0",
      "_model_name": "LayoutModel",
      "_view_count": null,
      "_view_module": "@jupyter-widgets/base",
      "_view_module_version": "1.2.0",
      "_view_name": "LayoutView",
      "align_content": null,
      "align_items": null,
      "align_self": null,
      "border": null,
      "bottom": null,
      "display": null,
      "flex": null,
      "flex_flow": null,
      "grid_area": null,
      "grid_auto_columns": null,
      "grid_auto_flow": null,
      "grid_auto_rows": null,
      "grid_column": null,
      "grid_gap": null,
      "grid_row": null,
      "grid_template_areas": null,
      "grid_template_columns": null,
      "grid_template_rows": null,
      "height": null,
      "justify_content": null,
      "justify_items": null,
      "left": null,
      "margin": null,
      "max_height": null,
      "max_width": null,
      "min_height": null,
      "min_width": null,
      "object_fit": null,
      "object_position": null,
      "order": null,
      "overflow": null,
      "overflow_x": null,
      "overflow_y": null,
      "padding": null,
      "right": null,
      "top": null,
      "visibility": null,
      "width": null
     }
    },
    "b07a98287a794eb6965d11066e2322c5": {
     "model_module": "@jupyter-widgets/controls",
     "model_module_version": "1.5.0",
     "model_name": "FloatProgressModel",
     "state": {
      "_dom_classes": [],
      "_model_module": "@jupyter-widgets/controls",
      "_model_module_version": "1.5.0",
      "_model_name": "FloatProgressModel",
      "_view_count": null,
      "_view_module": "@jupyter-widgets/controls",
      "_view_module_version": "1.5.0",
      "_view_name": "ProgressView",
      "bar_style": "success",
      "description": "",
      "description_tooltip": null,
      "layout": "IPY_MODEL_5f032b124227497091942236d5e54f9e",
      "max": 1,
      "min": 0,
      "orientation": "horizontal",
      "style": "IPY_MODEL_b5ebf507a3a64587b83c7a5244d486d5",
      "value": 1
     }
    },
    "b5ebf507a3a64587b83c7a5244d486d5": {
     "model_module": "@jupyter-widgets/controls",
     "model_module_version": "1.5.0",
     "model_name": "ProgressStyleModel",
     "state": {
      "_model_module": "@jupyter-widgets/controls",
      "_model_module_version": "1.5.0",
      "_model_name": "ProgressStyleModel",
      "_view_count": null,
      "_view_module": "@jupyter-widgets/base",
      "_view_module_version": "1.2.0",
      "_view_name": "StyleView",
      "bar_color": null,
      "description_width": ""
     }
    },
    "b8502a6e3b3649fba7f0674991fea8ab": {
     "model_module": "@jupyter-widgets/controls",
     "model_module_version": "1.5.0",
     "model_name": "HBoxModel",
     "state": {
      "_dom_classes": [],
      "_model_module": "@jupyter-widgets/controls",
      "_model_module_version": "1.5.0",
      "_model_name": "HBoxModel",
      "_view_count": null,
      "_view_module": "@jupyter-widgets/controls",
      "_view_module_version": "1.5.0",
      "_view_name": "HBoxView",
      "box_style": "",
      "children": [
       "IPY_MODEL_0fcf9488094144f892f115590b860ef7",
       "IPY_MODEL_b07a98287a794eb6965d11066e2322c5",
       "IPY_MODEL_111779770ab34189af81fb31260697ed"
      ],
      "layout": "IPY_MODEL_f8d4cf4d70f6400082803987e35998eb"
     }
    },
    "f8d4cf4d70f6400082803987e35998eb": {
     "model_module": "@jupyter-widgets/base",
     "model_module_version": "1.2.0",
     "model_name": "LayoutModel",
     "state": {
      "_model_module": "@jupyter-widgets/base",
      "_model_module_version": "1.2.0",
      "_model_name": "LayoutModel",
      "_view_count": null,
      "_view_module": "@jupyter-widgets/base",
      "_view_module_version": "1.2.0",
      "_view_name": "LayoutView",
      "align_content": null,
      "align_items": null,
      "align_self": null,
      "border": null,
      "bottom": null,
      "display": null,
      "flex": null,
      "flex_flow": null,
      "grid_area": null,
      "grid_auto_columns": null,
      "grid_auto_flow": null,
      "grid_auto_rows": null,
      "grid_column": null,
      "grid_gap": null,
      "grid_row": null,
      "grid_template_areas": null,
      "grid_template_columns": null,
      "grid_template_rows": null,
      "height": null,
      "justify_content": null,
      "justify_items": null,
      "left": null,
      "margin": null,
      "max_height": null,
      "max_width": null,
      "min_height": null,
      "min_width": null,
      "object_fit": null,
      "object_position": null,
      "order": null,
      "overflow": null,
      "overflow_x": null,
      "overflow_y": null,
      "padding": null,
      "right": null,
      "top": null,
      "visibility": null,
      "width": null
     }
    }
   }
  }
 },
 "nbformat": 4,
 "nbformat_minor": 5
}
