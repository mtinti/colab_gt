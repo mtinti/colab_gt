{
 "cells": [
  {
   "cell_type": "code",
   "execution_count": null,
   "id": "fc151df7",
   "metadata": {
    "id": "BX8uDBRB-Lym"
   },
   "outputs": [],
   "source": []
  },
  {
   "cell_type": "code",
   "execution_count": null,
   "id": "6962ddd6",
   "metadata": {
    "colab": {
     "base_uri": "https://localhost:8080/"
    },
    "id": "peddsIUH-Lyp",
    "outputId": "b93e3309-70f3-4b71-8183-0a4c62b43b7a"
   },
   "outputs": [],
   "source": [
    "#install dependency\n",
    "!pip install protein-bert\n",
    "!pip install gdown\n",
    "!pip install biopython"
   ]
  },
  {
   "cell_type": "code",
   "execution_count": null,
   "id": "b056ccb8",
   "metadata": {
    "colab": {
     "base_uri": "https://localhost:8080/"
    },
    "id": "0zhDhw---Lyu",
    "outputId": "4e39144a-eb91-411b-c07a-a56a172f8810"
   },
   "outputs": [],
   "source": [
    "#download assets\n",
    "!gdown --folder '1MMvRjjeR1Hz6hw08WZhZwLI-89pUpYtc'"
   ]
  },
  {
   "cell_type": "code",
   "execution_count": null,
   "id": "30fac9cc",
   "metadata": {
    "id": "-GuGO76N-Lyy"
   },
   "outputs": [],
   "source": []
  },
  {
   "cell_type": "code",
   "execution_count": null,
   "id": "f83719c9",
   "metadata": {
    "id": "KBCUX1Y5-Lyy"
   },
   "outputs": [],
   "source": [
    "#import packages\n",
    "import os\n",
    "import tensorflow as tf\n",
    "from Bio import SeqIO\n",
    "import os\n",
    "import pandas as pd\n",
    "import os\n",
    "import pandas as pd\n",
    "from IPython.display import display\n",
    "from tensorflow import keras\n",
    "from sklearn.model_selection import train_test_split\n",
    "from proteinbert import OutputType, OutputSpec, FinetuningModelGenerator, load_pretrained_model, finetune, evaluate_by_len\n",
    "from proteinbert.conv_and_global_attention_model import get_model_with_hidden_layers_as_outputs\n",
    "import numpy as np\n",
    "from proteinbert.finetuning import encode_categorical_Y\n",
    "from proteinbert.finetuning import encode_Y\n",
    "from proteinbert.finetuning import encode_dataset\n",
    "from io import StringIO\n",
    "import ipywidgets as widgets\n",
    "from ipywidgets import interactive\n",
    "from IPython.display import display"
   ]
  },
  {
   "cell_type": "code",
   "execution_count": null,
   "id": "621a468a",
   "metadata": {
    "id": "c1ik2S9w-Ly-"
   },
   "outputs": [],
   "source": [
    "#patch old function with a new version\n",
    "def create_new_model(self, seq_len, freeze_pretrained_layers = False):\n",
    "        \n",
    "        model = self.pretraining_model_generator.create_model(seq_len, compile = False, init_weights = (self.model_weights is None))\n",
    "            \n",
    "        if self.pretraining_model_manipulation_function is not None:\n",
    "            model = self.pretraining_model_manipulation_function(model)\n",
    "            \n",
    "        if freeze_pretrained_layers:\n",
    "            for layer in model.layers:\n",
    "                layer.trainable = False\n",
    "        \n",
    "        model_inputs = model.input\n",
    "        pretraining_output_seq_layer, pretraining_output_annoatations_layer = model.output\n",
    "        last_hidden_layer = pretraining_output_seq_layer if self.output_spec.output_type.is_seq else pretraining_output_annoatations_layer\n",
    "        last_hidden_layer = keras.layers.Dropout(self.dropout_rate)(last_hidden_layer)\n",
    "        \n",
    "        if self.output_spec.output_type.is_categorical:\n",
    "            output_layer = keras.layers.Dense(len(self.output_spec.unique_labels), activation = 'softmax')(last_hidden_layer)\n",
    "            loss = 'sparse_categorical_crossentropy'\n",
    "        elif self.output_spec.output_type.is_binary:\n",
    "            output_layer = keras.layers.Dense(1, activation = 'sigmoid')(last_hidden_layer)\n",
    "            loss = 'binary_crossentropy'\n",
    "        elif self.output_spec.output_type.is_numeric:\n",
    "            output_layer = keras.layers.Dense(1, activation = None)(last_hidden_layer)\n",
    "            loss = 'mse'\n",
    "        else:\n",
    "            raise ValueError('Unexpected global output type: %s' % self.output_spec.output_type)\n",
    "                \n",
    "        model = keras.models.Model(inputs = model_inputs, outputs = output_layer)\n",
    "        \n",
    "        #print(self.other_optimizer_kwargs)\n",
    "        #changed here lr to learning_rate\n",
    "        model.compile(loss = loss, optimizer = self.optimizer_class(learning_rate = self.lr, **self.other_optimizer_kwargs))\n",
    "        \n",
    "        self._init_weights(model)\n",
    "                \n",
    "        return model"
   ]
  },
  {
   "cell_type": "code",
   "execution_count": null,
   "id": "76116985",
   "metadata": {
    "colab": {
     "base_uri": "https://localhost:8080/"
    },
    "id": "7XAqoKsF-Ly-",
    "outputId": "9a0237d6-9f74-42b5-b29a-8fe3ba99a949"
   },
   "outputs": [],
   "source": [
    "#load the predictors\n",
    "def get_models(size = 1024):\n",
    "    df = pd.read_csv('GT_MODELS/label_to_family.csv',index_col=[0])\n",
    "    unique_labels = sorted(set(df['label'].unique()))\n",
    "    label_dict = dict(zip(df['label'],df['FamilyId']))\n",
    "    OUTPUT_TYPE = OutputType(False, 'categorical')\n",
    "    OUTPUT_SPEC = OutputSpec(OUTPUT_TYPE, unique_labels)\n",
    "\n",
    "    pretrained_model_generator, input_encoder = load_pretrained_model( \n",
    "    local_model_dump_dir='/content/GT_MODELS/',\n",
    "    local_model_dump_file_name='epoch_92400_sample_23500000.pkl',\n",
    "    validate_downloading=False)\n",
    "\n",
    "    # get_model_with_hidden_layers_as_outputs gives the model output access to the hidden layers (on top of the output)\n",
    "    model_generator = FinetuningModelGenerator(\n",
    "        pretrained_model_generator, \n",
    "        OUTPUT_SPEC, \n",
    "        pretraining_model_manipulation_function = get_model_with_hidden_layers_as_outputs,\n",
    "        dropout_rate = 0.5)\n",
    "    \n",
    "    ##patch, error in lerning rate\n",
    "    model_generator.create_model=create_new_model.__get__(model_generator, model_generator)\n",
    "    \n",
    "    fold=0\n",
    "    fine_tuned_model_0 = model_generator.create_model(size)\n",
    "    fine_tuned_model_0.load_weights('GT_MODELS/fine_tuned_model_other_fold_{fold}.h5'.format(fold=fold))\n",
    "\n",
    "    fold=1\n",
    "    fine_tuned_model_1 = model_generator.create_model(size)\n",
    "    fine_tuned_model_1.load_weights('GT_MODELS/fine_tuned_model_other_fold_{fold}.h5'.format(fold=fold))\n",
    "\n",
    "    fold=2\n",
    "    fine_tuned_model_2 = model_generator.create_model(size)\n",
    "    fine_tuned_model_2.load_weights('GT_MODELS/fine_tuned_model_other_fold_{fold}.h5'.format(fold=fold))\n",
    "\n",
    "    fold=3\n",
    "    fine_tuned_model_3 = model_generator.create_model(size)\n",
    "    fine_tuned_model_3.load_weights('GT_MODELS/fine_tuned_model_other_fold_{fold}.h5'.format(fold=fold))\n",
    "\n",
    "    fold=4\n",
    "    fine_tuned_model_4 = model_generator.create_model(size)\n",
    "    fine_tuned_model_4.load_weights('GT_MODELS/fine_tuned_model_other_fold_{fold}.h5'.format(fold=fold))    \n",
    "\n",
    "    models = [\n",
    "        fine_tuned_model_0,\n",
    "        fine_tuned_model_1,\n",
    "        fine_tuned_model_2,\n",
    "        fine_tuned_model_3,\n",
    "        fine_tuned_model_4,\n",
    "    ]\n",
    "    return models, input_encoder, OUTPUT_SPEC, label_dict\n",
    "\n",
    "models, input_encoder, OUTPUT_SPEC, label_dict = get_models()"
   ]
  },
  {
   "cell_type": "code",
   "execution_count": null,
   "id": "93af5a6c",
   "metadata": {},
   "outputs": [],
   "source": [
    "#copy paste your sequence/s in fasta format\n",
    "#between the triple quotes underneath\n",
    "fasta_entry='''\n",
    "\n",
    ">tr|A0A084A710|A0A084A710_LACLC Putative Glycosiltransferase OS=Lactococcus lactis subsp. cremoris GE214 OX=1415168 GN=U725_02784 PE=4 SV=1\n",
    "MLYDRGINVCHTTIYRWVQEYSKVLYYLWKKKNRQSFYSWKMDETYIKIKGRWHYLYRAI\n",
    "DADGLTLDIWLRKKRETQAAYAFLKRLHKQFGEPKAIVTDKAPSLGSAFRKLQCWSFECT\n",
    "DLMLPFAYKCYNIRLQYCIFFTEVLPMTVRKRQFGTEKDSFALPVRHTRENDRKLSINRI\n",
    "FIVITLIFWVCYVSSTIYNQMIVHIPNFRSAIETCLYIVIVTLLDFSALMYLIEREGALK\n",
    "RFAQHTRVPRQNIDTHFSKRQPKMTVLVPSYDEEIKVIRQTLLSAALQEYPDINIVLLLD\n",
    "DKPRPSQQDAIDKLERTKAAVLDIGKRFEEPSHRLKQSLLAFENKTKHKKQSKTDDAFEA\n",
    "AQKVVQEYKWAADWLMALANSEKVADHVDHFFVDKVIKDLADNLYLISSAIDKSISENVI\n",
    "ISDERLHQLYSRLVWVFTFNISYFQRKEYLSLSHEANKAMNLNSYINLMGGKYKIEKIAK\n",
    "NKVLLPVQEHETFDLEVPDSEYILTLDADSILLMEYCLRLVYLMDQKQNEKIAVTQTPYS\n",
    "SFRGSPTRIERITGSTTDIQHLLHQGSTHFDATFWVGANAVIRKRALEDIAEVDEIHGFM\n",
    "FRRFIQDRTVIEDTESSIDLRRKEWRLYNYPERLSYSATPPDFGSLVIQRGRWANGGLLI\n",
    "LPKLLAARKQLKREGRPMRRLEFLIRMNYMCSVAWASFGLLFLLVYPFDSKLLSIFILLS\n",
    "AIPYFIAMSSDLKYLRYRRIDVFGIYGFNLLLLPVNLAGVMKSIQQGLTDKKIPFARTPK\n",
    "VDNRTSVRGWYVFSPIAIIVYSMLTCLKSYQDGNWANALFAGFNTVTALWATIAYIGLMN\n",
    "MVKDILNNFLNLILVEEKSKKIENAIEQSDEMDWRSILYYGEKEEKLSLRVAIEHHKEH\n",
    "\n",
    ">tr|A0A7L8YR83|A0A7L8YR83_9CAUD Bactoprenol glycosiltransferase OS=Escherichia phage HF4s OX=2775262 GN=HF4s_0017 PE=4 SV=1\n",
    "MRNEDISGRSCLQRRGSDTYFYKTVREFEELKPYEVEIVFINDGSKDATESIINALSVSD\n",
    "PLVVPLSFTRNFGKEPALFAGLDHATGDAVIPIDVDLQDPIEVIPHLIEKWLAGADMVLA\n",
    "KRSDRSTDGRLKRKTAEWFYKLHNKISNPQIEENVGDFRLMSREVVENIKLMPERNLFMK\n",
    "GVLSWVGGRTDVVEYARAERVAGSTKFNGWKLWNLALEGITSFSTFPLRMWTYIGLFVAG\n",
    "AAFMYGAWMIIDTLAFGNAVRGYPSLLVSILFLGGIQLIGIGVLGEYIGRIYVEVKNRPR\n",
    "YVLKGRK\n",
    "\n",
    ">sp|Q06124|PTN11_HUMAN Tyrosine-protein phosphatase non-receptor type 11 OS=Homo sapiens OX=9606 GN=PTPN11 PE=1 SV=3\n",
    "MTSRRWFHPNITGVEAENLLLTRGVDGSFLARPSKSNPGDFTLSVRRNGAVTHIKIQNTG\n",
    "DYYDLYGGEKFATLAELVQYYMEHHGQLKEKNGDVIELKYPLNCADPTSERWFHGHLSGK\n",
    "EAEKLLTEKGKHGSFLVRESQSHPGDFVLSVRTGDDKGESNDGKSKVTHVMIRCQELKYD\n",
    "VGGGERFDSLTDLVEHYKKNPMVETLGTVLQLKQPLNTTRINAAEIESRVRELSKLAETT\n",
    "DKVKQGFWEEFETLQQQECKLLYSRKEGQRQENKNKNRYKNILPFDHTRVVLHDGDPNEP\n",
    "VSDYINANIIMPEFETKCNNSKPKKSYIATQGCLQNTVNDFWRMVFQENSRVIVMTTKEV\n",
    "ERGKSKCVKYWPDEYALKEYGVMRVRNVKESAAHDYTLRELKLSKVGQGNTERTVWQYHF\n",
    "RTWPDHGVPSDPGGVLDFLEEVHHKQESIMDAGPVVVHCSAGIGRTGTFIVIDILIDIIR\n",
    "EKGVDCDIDVPKTIQMVRSQRSGMVQTEAQYRFIYMAVQHYIETLQRRIEEEQKSKRKGH\n",
    "EYTNIKYSLADQTSGDQSPLPPCTPTPPCAEMREDSARVYENVGLMQQQKSFR\n",
    "\n",
    ">QOY92577.1 hypothetical protein IM543_13210 [Massilia sp. UMI-21] (example of new GT136 class)\n",
    "MLPCSSSCCRWLLLTRPSKSGDFQEYALMTIALAGHGTPDIRPSDIAVAARLSPEPGFVDMHERLRAGMR\n",
    "QGVDHPFPGFIRAGDDGYYAIHFFAYPALAALPFKLIDAAGGQPFKAFQLVNLGALAILGVALFQSTGSA\n",
    "RRAMFGTLFFLLSGALLYSNWGSPEFFSACALLSGLLFVLLGRPYLAALLAGVAAMQNPPLVLFSVFAPL\n",
    "VHICYLHAHERIPFGAALRRVLHRHTVLASVLLVALAALPVLFNLAKFGVPSAIAVLATNPALITPARLL\n",
    "SFFFDLNQGAIVGLPVAMLLVLAPLAARDRLRWLPHTSSSARPRAWCWPPSRRPMNRTRKSSPNARCTKT\n",
    "VSCTTTLSRPTRRRRRRSRSCSTPTARPPMPRCAAPADRCGRTAPAATIRGAGATSTEHPRAPRAVHALE\n",
    "CCPDGARTADGAPFASPHRGGSECTMRTDHSKGRAWASP\n",
    "\n",
    "\n",
    "'''\n"
   ]
  },
  {
   "cell_type": "code",
   "execution_count": null,
   "id": "fd6a0e86",
   "metadata": {},
   "outputs": [],
   "source": []
  },
  {
   "cell_type": "code",
   "execution_count": null,
   "id": "9f4b76cf",
   "metadata": {
    "id": "A4zXHDhb-LzA"
   },
   "outputs": [],
   "source": [
    "#create the inputs (a list of protein sequences) to encode\n",
    "\n",
    "fasta_io = StringIO(fasta_entry)\n",
    "records = SeqIO.parse(fasta_io, \"fasta\")\n",
    "\n",
    "ids = []\n",
    "seqs = []\n",
    "for n in records:\n",
    "    ids.append(n.id)\n",
    "    seqs.append(str(n.seq))\n",
    "    if len(str(n.seq)) > 1000:\n",
    "        raise TypeError(\"Sequence must be less than 1000AA\")\n",
    "\n",
    "targets = [0 for n in seqs]\n",
    "print('predicting:',len(ids),len(seqs),len(targets),'proteins')\n"
   ]
  },
  {
   "cell_type": "code",
   "execution_count": null,
   "id": "3fc4994e",
   "metadata": {
    "id": "5HYgXRvV-LzA"
   },
   "outputs": [],
   "source": []
  },
  {
   "cell_type": "code",
   "execution_count": null,
   "id": "9ff9ccc0",
   "metadata": {
    "id": "sfiS73d_-LzD"
   },
   "outputs": [],
   "source": [
    "#encode the inputs\n",
    "X, y_true, sample_weights = encode_dataset(seqs, targets, input_encoder, OUTPUT_SPEC, \\\n",
    "                seq_len = 512*2, needs_filtering = False)"
   ]
  },
  {
   "cell_type": "code",
   "execution_count": null,
   "id": "2e3e90c8",
   "metadata": {
    "id": "guuyLmsK-LzE"
   },
   "outputs": [],
   "source": [
    "#prepare the result dataframe\n",
    "in_df = pd.DataFrame()\n",
    "in_df['ids']=ids\n",
    "in_df['seq']=seqs\n",
    "in_df.head()"
   ]
  },
  {
   "cell_type": "code",
   "execution_count": null,
   "id": "12d592f5",
   "metadata": {
    "colab": {
     "base_uri": "https://localhost:8080/",
     "height": 87,
     "referenced_widgets": [
      "b8502a6e3b3649fba7f0674991fea8ab",
      "0fcf9488094144f892f115590b860ef7",
      "b07a98287a794eb6965d11066e2322c5",
      "111779770ab34189af81fb31260697ed",
      "f8d4cf4d70f6400082803987e35998eb",
      "17f0fcaf4bff42bdb365f93cda29b0fd",
      "18a16c6e2ce441e6b7f7f7b9d017ef09",
      "5f032b124227497091942236d5e54f9e",
      "b5ebf507a3a64587b83c7a5244d486d5",
      "a9368b7b06464365bf3b7ba12cc1bc6f",
      "5ea43f2b5d5941eeb0f9dc89b8bd71da"
     ]
    },
    "id": "nYjOQrAU-LzE",
    "outputId": "8cfbd46f-030a-4333-d07f-51e08b3ebd89"
   },
   "outputs": [],
   "source": [
    "#predict\n",
    "from tqdm.auto import tqdm\n",
    "for index, model in tqdm(enumerate(models)):\n",
    "    preds = model.predict(X, batch_size = 32)\n",
    "    index_sorted = np.argsort(preds, axis=1)\n",
    "    \n",
    "    labels_1 = pd.Series(index_sorted[:,-1])\n",
    "    labels_2 = pd.Series(index_sorted[:,-2])\n",
    "    \n",
    "    family_1 = labels_1.map(label_dict)\n",
    "    family_2 = labels_2.map(label_dict)\n",
    "    \n",
    "    prob_1 = preds[np.arange(len(X[0])), labels_1]\n",
    "    prob_2 = preds[np.arange(len(X[0])), labels_2]\n",
    "    \n",
    "    in_df['model_'+str(index)+'_labels_1']=labels_1.values\n",
    "    in_df['model_'+str(index)+'_family_1']=family_1.values\n",
    "    in_df['model_'+str(index)+'_prob_1']=prob_1\n"
   ]
  },
  {
   "cell_type": "code",
   "execution_count": null,
   "id": "c5c7509b",
   "metadata": {
    "id": "ASecKQ9--LzF"
   },
   "outputs": [],
   "source": [
    "#parse outputs and get the majority prediction/probability\n",
    "\n",
    "#get the class most predicted\n",
    "def select(X):\n",
    "    temp = []\n",
    "    items = list(set(X))\n",
    "    to_count = list(X)\n",
    "    #print(temp,items,to_count)\n",
    "    for n in items:\n",
    "        temp.append((to_count.count(n),n))\n",
    "    temp.sort()\n",
    "    #print(temp)\n",
    "    return temp[-1][-1]\n",
    "\n",
    "#get the sores for the class most predicted\n",
    "def vote_mean(X):\n",
    "    #print(X)\n",
    "    majority = X['vote']\n",
    "    score = []\n",
    "    for a,b in zip(X[['model_0_family_1','model_1_family_1','model_2_family_1','model_3_family_1','model_4_family_1']],\n",
    "                   X[['model_0_prob_1','model_1_prob_1','model_2_prob_1','model_3_prob_1','model_4_prob_1']]):\n",
    "        if a==majority:\n",
    "            score.append(b)\n",
    "    return np.mean(score)\n",
    "                   \n",
    "\n",
    "#not used at the moment\n",
    "def get_dict_from_desc(X):\n",
    "    temp_dict = {}\n",
    "    item_list= X.split('|')\n",
    "    #print(item_list)\n",
    "    for item in item_list:\n",
    "        if '=' in item:\n",
    "            key = item.split('=')[0].strip()\n",
    "            value = item.split('=')[1].strip()\n",
    "            temp_dict[key]=value\n",
    "            #print(key,value)\n",
    "    return temp_dict\n",
    "\n",
    "#not used at the moment\n",
    "def get_desc(X, target):\n",
    "    temp_dict = get_dict_from_desc(X)\n",
    "    #print(temp_dict)\n",
    "    return temp_dict[target]\n"
   ]
  },
  {
   "cell_type": "code",
   "execution_count": null,
   "id": "e41e0de8",
   "metadata": {
    "colab": {
     "base_uri": "https://localhost:8080/",
     "height": 145
    },
    "id": "5lISmISq-LzG",
    "outputId": "39e851b2-e047-4e8e-cd1f-ee5124712541"
   },
   "outputs": [],
   "source": [
    "#get the most predicted class\n",
    "in_df['vote']=in_df[['model_0_family_1','model_1_family_1','model_2_family_1','model_3_family_1','model_4_family_1']].apply(select,axis=1)\n",
    "#get the scores\n",
    "in_df['vote_mean']=in_df.apply(vote_mean,axis=1)"
   ]
  },
  {
   "cell_type": "code",
   "execution_count": null,
   "id": "b9335fdf",
   "metadata": {
    "colab": {
     "base_uri": "https://localhost:8080/",
     "height": 81
    },
    "id": "9jYRziDr-LzG",
    "outputId": "c8ac78ca-6a6b-4a5f-9d64-f787f06131ed"
   },
   "outputs": [],
   "source": [
    "#visualize result\n",
    "in_df[['ids','vote','vote_mean']]"
   ]
  },
  {
   "cell_type": "code",
   "execution_count": null,
   "id": "1b55d555",
   "metadata": {
    "id": "koAioyAC-Lzb"
   },
   "outputs": [],
   "source": [
    "#save result\n",
    "in_df[['ids','vote','vote_mean']].to_csv('out.csv')"
   ]
  },
  {
   "cell_type": "code",
   "execution_count": null,
   "id": "8d5ed3a6",
   "metadata": {
    "id": "rsDz8jUn-Lzb"
   },
   "outputs": [],
   "source": []
  },
  {
   "cell_type": "code",
   "execution_count": null,
   "id": "bfac4adf",
   "metadata": {
    "id": "CFOSwc3i-Lzb"
   },
   "outputs": [],
   "source": []
  },
  {
   "cell_type": "code",
   "execution_count": null,
   "id": "90ce7040",
   "metadata": {
    "id": "MMknkppC-Lzc"
   },
   "outputs": [],
   "source": []
  },
  {
   "cell_type": "code",
   "execution_count": null,
   "id": "9439fcf5",
   "metadata": {
    "id": "5DdkDY2O-Lzc"
   },
   "outputs": [],
   "source": []
  },
  {
   "cell_type": "code",
   "execution_count": null,
   "id": "c2bc86cc",
   "metadata": {
    "id": "B2IvWQpd-Lzc"
   },
   "outputs": [],
   "source": [
    "\n"
   ]
  }
 ],
 "metadata": {
  "colab": {
   "name": "predict_gt.ipynb",
   "provenance": []
  },
  "kernelspec": {
   "display_name": "Python 3 (ipykernel)",
   "language": "python",
   "name": "python3"
  },
  "language_info": {
   "codemirror_mode": {
    "name": "ipython",
    "version": 3
   },
   "file_extension": ".py",
   "mimetype": "text/x-python",
   "name": "python",
   "nbconvert_exporter": "python",
   "pygments_lexer": "ipython3",
   "version": "3.8.10"
  },
  "toc": {
   "base_numbering": 1,
   "nav_menu": {},
   "number_sections": true,
   "sideBar": true,
   "skip_h1_title": false,
   "title_cell": "Table of Contents",
   "title_sidebar": "Contents",
   "toc_cell": false,
   "toc_position": {},
   "toc_section_display": true,
   "toc_window_display": false
  },
  "widgets": {
   "application/vnd.jupyter.widget-state+json": {
    "state": {},
    "version_major": 2,
    "version_minor": 0
   }
  }
 },
 "nbformat": 4,
 "nbformat_minor": 5
}
